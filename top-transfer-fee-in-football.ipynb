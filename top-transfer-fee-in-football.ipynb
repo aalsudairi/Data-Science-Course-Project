{
 "cells": [
  {
   "cell_type": "markdown",
   "metadata": {},
   "source": [
    "\n",
    "# Project Name: Analysis Football Transfers Fees from 2000 to 2018\n",
    "\n",
    "# Name of the team : The Eagles\n",
    "\n",
    "# Students name, roles and E-mail:\n",
    "### 1-Abdullah Khalid Alsudayri / Leader / 437100514@student.edu.ksu.sa\n",
    "### 2-Yazeed Mohammed Alsuhaibani / Data analyst / 437101778@student.edu.ksu.sa\n",
    "### 3-Ibrahim Ahmed Aldosaimani / Data analyst / 436105417@student.edu.ksu.sa\n",
    "### 4-\n",
    "\n",
    "# Table of contents\n",
    "<ul>\n",
    "<li><a href=\"#intro\">Introduction</a></li>\n",
    "<li><a href=\"#wrangling\">Data Wrangling</a></li>\n",
    "<li><a href=\"#eda\">Exploratory Data Analysis</a></li>\n",
    "<li><a href=\"#conclusions\">Conclusions</a></li>\n",
    "</ul>"
   ]
  },
  {
   "cell_type": "markdown",
   "metadata": {},
   "source": [
    "<a id='intro'></a>\n",
    "## Introduction\n",
    "\n",
    "> **Tip**: In this section of the report, provide a brief introduction to the dataset you've selected for analysis. At the end of this section, describe the questions that you plan on exploring over the course of the report. Try to build your report around the analysis of at least one dependent variable and three independent variables.\n",
    ">\n",
    "> If you haven't yet selected and downloaded your data, make sure you do that first before coming back here. If you're not sure what questions to ask right now, then make sure you familiarize yourself with the variables and the dataset context for ideas of what to explore."
   ]
  },
  {
   "cell_type": "markdown",
   "metadata": {},
   "source": [
    "First of all, we need to install some packages to run our code \\\n",
    "1-pandas \\\n",
    "2-numpy \\\n",
    "3-matplotlib  \n",
    "4-seaborn"
   ]
  },
  {
   "cell_type": "code",
   "execution_count": 1,
   "metadata": {},
   "outputs": [],
   "source": [
    "import pandas as pd\n",
    "import numpy as np\n",
    "import matplotlib.pyplot as plt\n",
    "import seaborn as sns\n",
    "\n",
    "%matplotlib inline"
   ]
  },
  {
   "cell_type": "markdown",
   "metadata": {},
   "source": [
    "<a id='wrangling'></a>\n",
    "## Data Wrangling\n",
    "\n",
    "\n",
    "### General Properties\n",
    "\n",
    "### Data Cleaning"
   ]
  },
  {
   "cell_type": "code",
   "execution_count": 2,
   "metadata": {},
   "outputs": [],
   "source": [
    "df = pd.read_csv('top250-00-19.csv')"
   ]
  },
  {
   "cell_type": "markdown",
   "metadata": {},
   "source": [
    "We get this data from kaggle website --> https://www.kaggle.com/vardan95ghazaryan/top-250-football-transfers-from-2000-to-2018"
   ]
  },
  {
   "cell_type": "code",
   "execution_count": 3,
   "metadata": {},
   "outputs": [
    {
     "data": {
      "text/html": [
       "<div>\n",
       "<style scoped>\n",
       "    .dataframe tbody tr th:only-of-type {\n",
       "        vertical-align: middle;\n",
       "    }\n",
       "\n",
       "    .dataframe tbody tr th {\n",
       "        vertical-align: top;\n",
       "    }\n",
       "\n",
       "    .dataframe thead th {\n",
       "        text-align: right;\n",
       "    }\n",
       "</style>\n",
       "<table border=\"1\" class=\"dataframe\">\n",
       "  <thead>\n",
       "    <tr style=\"text-align: right;\">\n",
       "      <th></th>\n",
       "      <th>Name</th>\n",
       "      <th>Position</th>\n",
       "      <th>Age</th>\n",
       "      <th>Team_from</th>\n",
       "      <th>League_from</th>\n",
       "      <th>Team_to</th>\n",
       "      <th>League_to</th>\n",
       "      <th>Season</th>\n",
       "      <th>Market_value</th>\n",
       "      <th>Transfer_fee</th>\n",
       "    </tr>\n",
       "  </thead>\n",
       "  <tbody>\n",
       "    <tr>\n",
       "      <th>0</th>\n",
       "      <td>Luís Figo</td>\n",
       "      <td>Right Winger</td>\n",
       "      <td>27</td>\n",
       "      <td>FC Barcelona</td>\n",
       "      <td>LaLiga</td>\n",
       "      <td>Real Madrid</td>\n",
       "      <td>LaLiga</td>\n",
       "      <td>2000-2001</td>\n",
       "      <td>NaN</td>\n",
       "      <td>60000000</td>\n",
       "    </tr>\n",
       "    <tr>\n",
       "      <th>1</th>\n",
       "      <td>Hernán Crespo</td>\n",
       "      <td>Centre-Forward</td>\n",
       "      <td>25</td>\n",
       "      <td>Parma</td>\n",
       "      <td>Serie A</td>\n",
       "      <td>Lazio</td>\n",
       "      <td>Serie A</td>\n",
       "      <td>2000-2001</td>\n",
       "      <td>NaN</td>\n",
       "      <td>56810000</td>\n",
       "    </tr>\n",
       "    <tr>\n",
       "      <th>2</th>\n",
       "      <td>Marc Overmars</td>\n",
       "      <td>Left Winger</td>\n",
       "      <td>27</td>\n",
       "      <td>Arsenal</td>\n",
       "      <td>Premier League</td>\n",
       "      <td>FC Barcelona</td>\n",
       "      <td>LaLiga</td>\n",
       "      <td>2000-2001</td>\n",
       "      <td>NaN</td>\n",
       "      <td>40000000</td>\n",
       "    </tr>\n",
       "    <tr>\n",
       "      <th>3</th>\n",
       "      <td>Gabriel Batistuta</td>\n",
       "      <td>Centre-Forward</td>\n",
       "      <td>31</td>\n",
       "      <td>Fiorentina</td>\n",
       "      <td>Serie A</td>\n",
       "      <td>AS Roma</td>\n",
       "      <td>Serie A</td>\n",
       "      <td>2000-2001</td>\n",
       "      <td>NaN</td>\n",
       "      <td>36150000</td>\n",
       "    </tr>\n",
       "    <tr>\n",
       "      <th>4</th>\n",
       "      <td>Nicolas Anelka</td>\n",
       "      <td>Centre-Forward</td>\n",
       "      <td>21</td>\n",
       "      <td>Real Madrid</td>\n",
       "      <td>LaLiga</td>\n",
       "      <td>Paris SG</td>\n",
       "      <td>Ligue 1</td>\n",
       "      <td>2000-2001</td>\n",
       "      <td>NaN</td>\n",
       "      <td>34500000</td>\n",
       "    </tr>\n",
       "  </tbody>\n",
       "</table>\n",
       "</div>"
      ],
      "text/plain": [
       "                Name        Position  Age     Team_from     League_from  \\\n",
       "0          Luís Figo    Right Winger   27  FC Barcelona          LaLiga   \n",
       "1      Hernán Crespo  Centre-Forward   25         Parma         Serie A   \n",
       "2      Marc Overmars     Left Winger   27       Arsenal  Premier League   \n",
       "3  Gabriel Batistuta  Centre-Forward   31    Fiorentina         Serie A   \n",
       "4     Nicolas Anelka  Centre-Forward   21   Real Madrid          LaLiga   \n",
       "\n",
       "        Team_to League_to     Season  Market_value  Transfer_fee  \n",
       "0   Real Madrid    LaLiga  2000-2001           NaN      60000000  \n",
       "1         Lazio   Serie A  2000-2001           NaN      56810000  \n",
       "2  FC Barcelona    LaLiga  2000-2001           NaN      40000000  \n",
       "3       AS Roma   Serie A  2000-2001           NaN      36150000  \n",
       "4      Paris SG   Ligue 1  2000-2001           NaN      34500000  "
      ]
     },
     "execution_count": 3,
     "metadata": {},
     "output_type": "execute_result"
    }
   ],
   "source": [
    "df.head()"
   ]
  },
  {
   "cell_type": "code",
   "execution_count": 4,
   "metadata": {
    "scrolled": false
   },
   "outputs": [
    {
     "name": "stdout",
     "output_type": "stream",
     "text": [
      "<class 'pandas.core.frame.DataFrame'>\n",
      "RangeIndex: 4700 entries, 0 to 4699\n",
      "Data columns (total 10 columns):\n",
      " #   Column        Non-Null Count  Dtype  \n",
      "---  ------        --------------  -----  \n",
      " 0   Name          4700 non-null   object \n",
      " 1   Position      4700 non-null   object \n",
      " 2   Age           4700 non-null   int64  \n",
      " 3   Team_from     4700 non-null   object \n",
      " 4   League_from   4700 non-null   object \n",
      " 5   Team_to       4700 non-null   object \n",
      " 6   League_to     4700 non-null   object \n",
      " 7   Season        4700 non-null   object \n",
      " 8   Market_value  3440 non-null   float64\n",
      " 9   Transfer_fee  4700 non-null   int64  \n",
      "dtypes: float64(1), int64(2), object(7)\n",
      "memory usage: 367.3+ KB\n"
     ]
    }
   ],
   "source": [
    "df.info()"
   ]
  },
  {
   "cell_type": "markdown",
   "metadata": {},
   "source": [
    "### The our dataset contains:\n",
    "1-Name: the name of a football plyer. \\\n",
    "2-position: playing position example (Right Winger - Centre-Forward - Centre-Back ). \\\n",
    "3-Age: Age by the time of a transfer. \\\n",
    "4-Team_from: Team that sold a player to another. \\\n",
    "5-Team_to: Team, where player was sold. \\\n",
    "6-League_to : the League, where player was sold to. \\\n",
    "7-League_from : the league which of selling team. \\\n",
    "8-Season: Football season, when the transfer took place. \\\n",
    "9-Market_value : Estimated market value of each player in the team . \\\n",
    "10-Transfer_fee: Actual value of transfer.\n"
   ]
  },
  {
   "cell_type": "code",
   "execution_count": 5,
   "metadata": {
    "scrolled": false
   },
   "outputs": [
    {
     "data": {
      "text/html": [
       "<div>\n",
       "<style scoped>\n",
       "    .dataframe tbody tr th:only-of-type {\n",
       "        vertical-align: middle;\n",
       "    }\n",
       "\n",
       "    .dataframe tbody tr th {\n",
       "        vertical-align: top;\n",
       "    }\n",
       "\n",
       "    .dataframe thead th {\n",
       "        text-align: right;\n",
       "    }\n",
       "</style>\n",
       "<table border=\"1\" class=\"dataframe\">\n",
       "  <thead>\n",
       "    <tr style=\"text-align: right;\">\n",
       "      <th></th>\n",
       "      <th>Age</th>\n",
       "      <th>Market_value</th>\n",
       "      <th>Transfer_fee</th>\n",
       "    </tr>\n",
       "  </thead>\n",
       "  <tbody>\n",
       "    <tr>\n",
       "      <th>count</th>\n",
       "      <td>4700.000000</td>\n",
       "      <td>3.440000e+03</td>\n",
       "      <td>4.700000e+03</td>\n",
       "    </tr>\n",
       "    <tr>\n",
       "      <th>mean</th>\n",
       "      <td>24.338723</td>\n",
       "      <td>8.622469e+06</td>\n",
       "      <td>9.447586e+06</td>\n",
       "    </tr>\n",
       "    <tr>\n",
       "      <th>std</th>\n",
       "      <td>3.230809</td>\n",
       "      <td>8.795181e+06</td>\n",
       "      <td>1.043772e+07</td>\n",
       "    </tr>\n",
       "    <tr>\n",
       "      <th>min</th>\n",
       "      <td>0.000000</td>\n",
       "      <td>5.000000e+04</td>\n",
       "      <td>8.250000e+05</td>\n",
       "    </tr>\n",
       "    <tr>\n",
       "      <th>25%</th>\n",
       "      <td>22.000000</td>\n",
       "      <td>3.500000e+06</td>\n",
       "      <td>4.000000e+06</td>\n",
       "    </tr>\n",
       "    <tr>\n",
       "      <th>50%</th>\n",
       "      <td>24.000000</td>\n",
       "      <td>6.000000e+06</td>\n",
       "      <td>6.500000e+06</td>\n",
       "    </tr>\n",
       "    <tr>\n",
       "      <th>75%</th>\n",
       "      <td>27.000000</td>\n",
       "      <td>1.000000e+07</td>\n",
       "      <td>1.082000e+07</td>\n",
       "    </tr>\n",
       "    <tr>\n",
       "      <th>max</th>\n",
       "      <td>35.000000</td>\n",
       "      <td>1.200000e+08</td>\n",
       "      <td>2.220000e+08</td>\n",
       "    </tr>\n",
       "  </tbody>\n",
       "</table>\n",
       "</div>"
      ],
      "text/plain": [
       "               Age  Market_value  Transfer_fee\n",
       "count  4700.000000  3.440000e+03  4.700000e+03\n",
       "mean     24.338723  8.622469e+06  9.447586e+06\n",
       "std       3.230809  8.795181e+06  1.043772e+07\n",
       "min       0.000000  5.000000e+04  8.250000e+05\n",
       "25%      22.000000  3.500000e+06  4.000000e+06\n",
       "50%      24.000000  6.000000e+06  6.500000e+06\n",
       "75%      27.000000  1.000000e+07  1.082000e+07\n",
       "max      35.000000  1.200000e+08  2.220000e+08"
      ]
     },
     "execution_count": 5,
     "metadata": {},
     "output_type": "execute_result"
    }
   ],
   "source": [
    "df.describe()"
   ]
  },
  {
   "cell_type": "markdown",
   "metadata": {},
   "source": [
    "Here we can see in the minimum age it is zero and that not make sence, so we have to drop this row"
   ]
  },
  {
   "cell_type": "code",
   "execution_count": 6,
   "metadata": {
    "scrolled": true
   },
   "outputs": [
    {
     "data": {
      "text/html": [
       "<div>\n",
       "<style scoped>\n",
       "    .dataframe tbody tr th:only-of-type {\n",
       "        vertical-align: middle;\n",
       "    }\n",
       "\n",
       "    .dataframe tbody tr th {\n",
       "        vertical-align: top;\n",
       "    }\n",
       "\n",
       "    .dataframe thead th {\n",
       "        text-align: right;\n",
       "    }\n",
       "</style>\n",
       "<table border=\"1\" class=\"dataframe\">\n",
       "  <thead>\n",
       "    <tr style=\"text-align: right;\">\n",
       "      <th></th>\n",
       "      <th>Name</th>\n",
       "      <th>Position</th>\n",
       "      <th>Age</th>\n",
       "      <th>Team_from</th>\n",
       "      <th>League_from</th>\n",
       "      <th>Team_to</th>\n",
       "      <th>League_to</th>\n",
       "      <th>Season</th>\n",
       "      <th>Market_value</th>\n",
       "      <th>Transfer_fee</th>\n",
       "    </tr>\n",
       "  </thead>\n",
       "  <tbody>\n",
       "    <tr>\n",
       "      <th>236</th>\n",
       "      <td>Marzouq Al-Otaibi</td>\n",
       "      <td>Centre-Forward</td>\n",
       "      <td>0</td>\n",
       "      <td>Shabab</td>\n",
       "      <td>Saudi Arabia</td>\n",
       "      <td>Ittihad</td>\n",
       "      <td>Saudi Arabia</td>\n",
       "      <td>2000-2001</td>\n",
       "      <td>NaN</td>\n",
       "      <td>2000000</td>\n",
       "    </tr>\n",
       "  </tbody>\n",
       "</table>\n",
       "</div>"
      ],
      "text/plain": [
       "                  Name        Position  Age Team_from    League_from  Team_to  \\\n",
       "236  Marzouq Al-Otaibi  Centre-Forward    0    Shabab   Saudi Arabia  Ittihad   \n",
       "\n",
       "         League_to     Season  Market_value  Transfer_fee  \n",
       "236   Saudi Arabia  2000-2001           NaN       2000000  "
      ]
     },
     "execution_count": 6,
     "metadata": {},
     "output_type": "execute_result"
    }
   ],
   "source": [
    "df.query('Age == 0')"
   ]
  },
  {
   "cell_type": "code",
   "execution_count": 7,
   "metadata": {},
   "outputs": [],
   "source": [
    "df.drop([236], inplace=True)"
   ]
  },
  {
   "cell_type": "markdown",
   "metadata": {},
   "source": [
    "So here we delete the row (236) "
   ]
  },
  {
   "cell_type": "code",
   "execution_count": 8,
   "metadata": {
    "scrolled": false
   },
   "outputs": [
    {
     "data": {
      "text/html": [
       "<div>\n",
       "<style scoped>\n",
       "    .dataframe tbody tr th:only-of-type {\n",
       "        vertical-align: middle;\n",
       "    }\n",
       "\n",
       "    .dataframe tbody tr th {\n",
       "        vertical-align: top;\n",
       "    }\n",
       "\n",
       "    .dataframe thead th {\n",
       "        text-align: right;\n",
       "    }\n",
       "</style>\n",
       "<table border=\"1\" class=\"dataframe\">\n",
       "  <thead>\n",
       "    <tr style=\"text-align: right;\">\n",
       "      <th></th>\n",
       "      <th>Age</th>\n",
       "      <th>Market_value</th>\n",
       "      <th>Transfer_fee</th>\n",
       "    </tr>\n",
       "  </thead>\n",
       "  <tbody>\n",
       "    <tr>\n",
       "      <th>count</th>\n",
       "      <td>4699.000000</td>\n",
       "      <td>3.440000e+03</td>\n",
       "      <td>4.699000e+03</td>\n",
       "    </tr>\n",
       "    <tr>\n",
       "      <th>mean</th>\n",
       "      <td>24.343903</td>\n",
       "      <td>8.622469e+06</td>\n",
       "      <td>9.449171e+06</td>\n",
       "    </tr>\n",
       "    <tr>\n",
       "      <th>std</th>\n",
       "      <td>3.211578</td>\n",
       "      <td>8.795181e+06</td>\n",
       "      <td>1.043826e+07</td>\n",
       "    </tr>\n",
       "    <tr>\n",
       "      <th>min</th>\n",
       "      <td>15.000000</td>\n",
       "      <td>5.000000e+04</td>\n",
       "      <td>8.250000e+05</td>\n",
       "    </tr>\n",
       "    <tr>\n",
       "      <th>25%</th>\n",
       "      <td>22.000000</td>\n",
       "      <td>3.500000e+06</td>\n",
       "      <td>4.000000e+06</td>\n",
       "    </tr>\n",
       "    <tr>\n",
       "      <th>50%</th>\n",
       "      <td>24.000000</td>\n",
       "      <td>6.000000e+06</td>\n",
       "      <td>6.500000e+06</td>\n",
       "    </tr>\n",
       "    <tr>\n",
       "      <th>75%</th>\n",
       "      <td>27.000000</td>\n",
       "      <td>1.000000e+07</td>\n",
       "      <td>1.082000e+07</td>\n",
       "    </tr>\n",
       "    <tr>\n",
       "      <th>max</th>\n",
       "      <td>35.000000</td>\n",
       "      <td>1.200000e+08</td>\n",
       "      <td>2.220000e+08</td>\n",
       "    </tr>\n",
       "  </tbody>\n",
       "</table>\n",
       "</div>"
      ],
      "text/plain": [
       "               Age  Market_value  Transfer_fee\n",
       "count  4699.000000  3.440000e+03  4.699000e+03\n",
       "mean     24.343903  8.622469e+06  9.449171e+06\n",
       "std       3.211578  8.795181e+06  1.043826e+07\n",
       "min      15.000000  5.000000e+04  8.250000e+05\n",
       "25%      22.000000  3.500000e+06  4.000000e+06\n",
       "50%      24.000000  6.000000e+06  6.500000e+06\n",
       "75%      27.000000  1.000000e+07  1.082000e+07\n",
       "max      35.000000  1.200000e+08  2.220000e+08"
      ]
     },
     "execution_count": 8,
     "metadata": {},
     "output_type": "execute_result"
    }
   ],
   "source": [
    "df.describe()"
   ]
  },
  {
   "cell_type": "markdown",
   "metadata": {},
   "source": [
    "And here we can check if our value delete it and it's"
   ]
  },
  {
   "cell_type": "code",
   "execution_count": 9,
   "metadata": {
    "scrolled": true
   },
   "outputs": [
    {
     "data": {
      "text/html": [
       "<div>\n",
       "<style scoped>\n",
       "    .dataframe tbody tr th:only-of-type {\n",
       "        vertical-align: middle;\n",
       "    }\n",
       "\n",
       "    .dataframe tbody tr th {\n",
       "        vertical-align: top;\n",
       "    }\n",
       "\n",
       "    .dataframe thead th {\n",
       "        text-align: right;\n",
       "    }\n",
       "</style>\n",
       "<table border=\"1\" class=\"dataframe\">\n",
       "  <thead>\n",
       "    <tr style=\"text-align: right;\">\n",
       "      <th></th>\n",
       "      <th>Name</th>\n",
       "      <th>Position</th>\n",
       "      <th>Age</th>\n",
       "      <th>Team_from</th>\n",
       "      <th>League_from</th>\n",
       "      <th>Team_to</th>\n",
       "      <th>League_to</th>\n",
       "      <th>Season</th>\n",
       "      <th>Market_value</th>\n",
       "      <th>Transfer_fee</th>\n",
       "    </tr>\n",
       "  </thead>\n",
       "  <tbody>\n",
       "    <tr>\n",
       "      <th>0</th>\n",
       "      <td>Luís Figo</td>\n",
       "      <td>Right Winger</td>\n",
       "      <td>27</td>\n",
       "      <td>FC Barcelona</td>\n",
       "      <td>LaLiga</td>\n",
       "      <td>Real Madrid</td>\n",
       "      <td>LaLiga</td>\n",
       "      <td>2000-2001</td>\n",
       "      <td>NaN</td>\n",
       "      <td>60000000</td>\n",
       "    </tr>\n",
       "  </tbody>\n",
       "</table>\n",
       "</div>"
      ],
      "text/plain": [
       "        Name      Position  Age     Team_from League_from      Team_to  \\\n",
       "0  Luís Figo  Right Winger   27  FC Barcelona      LaLiga  Real Madrid   \n",
       "\n",
       "  League_to     Season  Market_value  Transfer_fee  \n",
       "0    LaLiga  2000-2001           NaN      60000000  "
      ]
     },
     "execution_count": 9,
     "metadata": {},
     "output_type": "execute_result"
    }
   ],
   "source": [
    "df.head(1)"
   ]
  },
  {
   "cell_type": "markdown",
   "metadata": {},
   "source": [
    "Now droping the columes that we don't need it."
   ]
  },
  {
   "cell_type": "code",
   "execution_count": 10,
   "metadata": {},
   "outputs": [],
   "source": [
    "df.drop(axis=1, labels=['Market_value'], inplace=True)"
   ]
  },
  {
   "cell_type": "markdown",
   "metadata": {},
   "source": [
    "Now we will to check"
   ]
  },
  {
   "cell_type": "code",
   "execution_count": 11,
   "metadata": {
    "scrolled": true
   },
   "outputs": [
    {
     "data": {
      "text/html": [
       "<div>\n",
       "<style scoped>\n",
       "    .dataframe tbody tr th:only-of-type {\n",
       "        vertical-align: middle;\n",
       "    }\n",
       "\n",
       "    .dataframe tbody tr th {\n",
       "        vertical-align: top;\n",
       "    }\n",
       "\n",
       "    .dataframe thead th {\n",
       "        text-align: right;\n",
       "    }\n",
       "</style>\n",
       "<table border=\"1\" class=\"dataframe\">\n",
       "  <thead>\n",
       "    <tr style=\"text-align: right;\">\n",
       "      <th></th>\n",
       "      <th>Name</th>\n",
       "      <th>Position</th>\n",
       "      <th>Age</th>\n",
       "      <th>Team_from</th>\n",
       "      <th>League_from</th>\n",
       "      <th>Team_to</th>\n",
       "      <th>League_to</th>\n",
       "      <th>Season</th>\n",
       "      <th>Transfer_fee</th>\n",
       "    </tr>\n",
       "  </thead>\n",
       "  <tbody>\n",
       "    <tr>\n",
       "      <th>0</th>\n",
       "      <td>Luís Figo</td>\n",
       "      <td>Right Winger</td>\n",
       "      <td>27</td>\n",
       "      <td>FC Barcelona</td>\n",
       "      <td>LaLiga</td>\n",
       "      <td>Real Madrid</td>\n",
       "      <td>LaLiga</td>\n",
       "      <td>2000-2001</td>\n",
       "      <td>60000000</td>\n",
       "    </tr>\n",
       "  </tbody>\n",
       "</table>\n",
       "</div>"
      ],
      "text/plain": [
       "        Name      Position  Age     Team_from League_from      Team_to  \\\n",
       "0  Luís Figo  Right Winger   27  FC Barcelona      LaLiga  Real Madrid   \n",
       "\n",
       "  League_to     Season  Transfer_fee  \n",
       "0    LaLiga  2000-2001      60000000  "
      ]
     },
     "execution_count": 11,
     "metadata": {},
     "output_type": "execute_result"
    }
   ],
   "source": [
    "df.head(1)"
   ]
  },
  {
   "cell_type": "markdown",
   "metadata": {},
   "source": [
    "Done"
   ]
  },
  {
   "cell_type": "markdown",
   "metadata": {},
   "source": [
    "Finally we will to check if we have and duplicate value"
   ]
  },
  {
   "cell_type": "code",
   "execution_count": 12,
   "metadata": {},
   "outputs": [
    {
     "data": {
      "text/plain": [
       "0"
      ]
     },
     "execution_count": 12,
     "metadata": {},
     "output_type": "execute_result"
    }
   ],
   "source": [
    "df.duplicated().sum()"
   ]
  },
  {
   "cell_type": "markdown",
   "metadata": {},
   "source": [
    "That's good we don't have any duplicate value"
   ]
  },
  {
   "cell_type": "markdown",
   "metadata": {},
   "source": [
    "<a id='eda'></a>\n",
    "## Exploratory Data Analysis\n",
    "\n",
    "\n",
    "\n",
    "### First visualization \\ We will analyze profit for each team"
   ]
  },
  {
   "cell_type": "markdown",
   "metadata": {},
   "source": [
    "Here we will collect the players' selling prices for each team"
   ]
  },
  {
   "cell_type": "code",
   "execution_count": 13,
   "metadata": {},
   "outputs": [],
   "source": [
    "team_from_sum = df.groupby(['Team_from'])['Transfer_fee'].sum()"
   ]
  },
  {
   "cell_type": "markdown",
   "metadata": {},
   "source": [
    "And here we will collect the players' buying prices for each team"
   ]
  },
  {
   "cell_type": "code",
   "execution_count": 14,
   "metadata": {},
   "outputs": [],
   "source": [
    "team_to_sum = df.groupby(['Team_to'])['Transfer_fee'].sum()"
   ]
  },
  {
   "cell_type": "markdown",
   "metadata": {},
   "source": [
    "Here we will calculate the profits and sorting the values"
   ]
  },
  {
   "cell_type": "code",
   "execution_count": 15,
   "metadata": {},
   "outputs": [
    {
     "data": {
      "text/plain": [
       "FC Porto          556.74\n",
       "Benfica           451.05\n",
       "Udinese Calcio    342.50\n",
       "River Plate       324.63\n",
       "Parma             263.79\n",
       "Name: Transfer_fee, dtype: float64"
      ]
     },
     "execution_count": 15,
     "metadata": {},
     "output_type": "execute_result"
    }
   ],
   "source": [
    "diff_team = team_from_sum - team_to_sum\n",
    "diff_team = diff_team.sort_values(ascending=False)\n",
    "#We divide diff_team here to be the prices in the millions\n",
    "diff_team = diff_team/1000000\n",
    "diff_team.head()"
   ]
  },
  {
   "cell_type": "markdown",
   "metadata": {},
   "source": [
    "Ok now we will visualize the data"
   ]
  },
  {
   "cell_type": "code",
   "execution_count": 175,
   "metadata": {
    "scrolled": false
   },
   "outputs": [
    {
     "name": "stdout",
     "output_type": "stream",
     "text": [
      "FC Porto          556.74\n",
      "Benfica           451.05\n",
      "Udinese Calcio    342.50\n",
      "River Plate       324.63\n",
      "Parma             263.79\n",
      "Monaco            262.56\n",
      "AFC Ajax          245.33\n",
      "Santos FC         245.00\n",
      "LOSC Lille        220.44\n",
      "Sporting CP       209.25\n",
      "Name: Transfer_fee, dtype: float64\n"
     ]
    },
    {
     "data": {
      "image/png": "[encoded data removed]",
      "text/plain": [
       "<Figure size 1800x800 with 1 Axes>"
      ]
     },
     "metadata": {},
     "output_type": "display_data"
    }
   ],
   "source": [
    "fig, ax = plt.subplots(figsize=(18,8))\n",
    "make_money = diff_team.sort_values(ascending=False)[:10]\n",
    "print(make_money)\n",
    "ax.bar(make_money.index, make_money.values)\n",
    "ax.set_title(\"Clubs that make money on transfer market\")\n",
    "ax.set_ylabel(\"$ millions\")\n",
    "ax.set_xticklabels(make_money.index)\n",
    "plt.grid(axis='y')"
   ]
  },
  {
   "cell_type": "markdown",
   "metadata": {},
   "source": [
    "### Research Question 2  (Replace this header name!)"
   ]
  },
  {
   "cell_type": "markdown",
   "metadata": {},
   "source": [
    "In our dataset we have position column in this column we have a lot of position in detail like defender position we have about four position like Right-Back and Centre-Back etc .., so we want to collect them in one position to make it easier for us to analyze it"
   ]
  },
  {
   "cell_type": "code",
   "execution_count": 54,
   "metadata": {},
   "outputs": [],
   "source": [
    "position_group = {'Right Winger': 'Attacker','Centre-Forward':'Attacker','Left Winger':'Attacker','Centre-Back':'Defender','Central Midfield':\n",
    "               'Midfield','Attacking Midfield': 'Midfield', 'Defensive Midfield': 'Midfield','Second Striker': 'Attacker', 'Goalkeeper': 'Goalkeeper',\n",
    "               'Right-Back':'Defender','Left Midfield': 'Midfield', 'Left-Back':'Defender','Right Midfield':'Midfield','Forward':'Attacker','Sweeper':'Midfield',\n",
    "               'Defender':'Defender','Midfielder':'Midfield'}"
   ]
  },
  {
   "cell_type": "markdown",
   "metadata": {},
   "source": [
    "So here we create new column and it's name New_position"
   ]
  },
  {
   "cell_type": "code",
   "execution_count": 56,
   "metadata": {},
   "outputs": [],
   "source": [
    "df['New_position'] = pd.Series(df.Position.map(position_group), index = df.index)"
   ]
  },
  {
   "cell_type": "code",
   "execution_count": 19,
   "metadata": {},
   "outputs": [
    {
     "data": {
      "text/html": [
       "<div>\n",
       "<style scoped>\n",
       "    .dataframe tbody tr th:only-of-type {\n",
       "        vertical-align: middle;\n",
       "    }\n",
       "\n",
       "    .dataframe tbody tr th {\n",
       "        vertical-align: top;\n",
       "    }\n",
       "\n",
       "    .dataframe thead th {\n",
       "        text-align: right;\n",
       "    }\n",
       "</style>\n",
       "<table border=\"1\" class=\"dataframe\">\n",
       "  <thead>\n",
       "    <tr style=\"text-align: right;\">\n",
       "      <th></th>\n",
       "      <th>Name</th>\n",
       "      <th>Position</th>\n",
       "      <th>Age</th>\n",
       "      <th>Team_from</th>\n",
       "      <th>League_from</th>\n",
       "      <th>Team_to</th>\n",
       "      <th>League_to</th>\n",
       "      <th>Season</th>\n",
       "      <th>Transfer_fee</th>\n",
       "      <th>New_position</th>\n",
       "    </tr>\n",
       "  </thead>\n",
       "  <tbody>\n",
       "    <tr>\n",
       "      <th>0</th>\n",
       "      <td>Luís Figo</td>\n",
       "      <td>Right Winger</td>\n",
       "      <td>27</td>\n",
       "      <td>FC Barcelona</td>\n",
       "      <td>LaLiga</td>\n",
       "      <td>Real Madrid</td>\n",
       "      <td>LaLiga</td>\n",
       "      <td>2000-2001</td>\n",
       "      <td>60000000</td>\n",
       "      <td>Attacker</td>\n",
       "    </tr>\n",
       "  </tbody>\n",
       "</table>\n",
       "</div>"
      ],
      "text/plain": [
       "        Name      Position  Age     Team_from League_from      Team_to  \\\n",
       "0  Luís Figo  Right Winger   27  FC Barcelona      LaLiga  Real Madrid   \n",
       "\n",
       "  League_to     Season  Transfer_fee New_position  \n",
       "0    LaLiga  2000-2001      60000000     Attacker  "
      ]
     },
     "execution_count": 19,
     "metadata": {},
     "output_type": "execute_result"
    }
   ],
   "source": [
    "df.head(1)"
   ]
  },
  {
   "cell_type": "markdown",
   "metadata": {},
   "source": [
    "Now we can see the new column"
   ]
  },
  {
   "cell_type": "code",
   "execution_count": 83,
   "metadata": {
    "scrolled": false
   },
   "outputs": [
    {
     "name": "stdout",
     "output_type": "stream",
     "text": [
      "Attacker      1922\n",
      "Midfield      1476\n",
      "Defender      1121\n",
      "Goalkeeper     180\n",
      "Name: New_position, dtype: int64\n"
     ]
    },
    {
     "data": {
      "image/png": "[encoded data removed]",
      "text/plain": [
       "<Figure size 1000x600 with 1 Axes>"
      ]
     },
     "metadata": {},
     "output_type": "display_data"
    }
   ],
   "source": [
    "each_position_group = df.New_position.value_counts()\n",
    "#print number of each position\n",
    "print(each_position_group)\n",
    "fig, ax = plt.subplots(figsize=(10,6))\n",
    "sns.barplot(each_position_group.index, each_position_group.values)\n",
    "ax.set_ylabel(\"Number of player they are transferred\")\n",
    "ax.set_xlabel(\"Positions\")\n",
    "plt.grid(axis='y')"
   ]
  },
  {
   "cell_type": "markdown",
   "metadata": {},
   "source": [
    "### Research Question 3  (Replace this header name!)"
   ]
  },
  {
   "cell_type": "code",
   "execution_count": 179,
   "metadata": {},
   "outputs": [],
   "source": [
    "df_new = df.copy()"
   ]
  },
  {
   "cell_type": "markdown",
   "metadata": {},
   "source": [
    "We have copied our original data because we want to edit it's"
   ]
  },
  {
   "cell_type": "code",
   "execution_count": 180,
   "metadata": {},
   "outputs": [
    {
     "data": {
      "text/html": [
       "<div>\n",
       "<style scoped>\n",
       "    .dataframe tbody tr th:only-of-type {\n",
       "        vertical-align: middle;\n",
       "    }\n",
       "\n",
       "    .dataframe tbody tr th {\n",
       "        vertical-align: top;\n",
       "    }\n",
       "\n",
       "    .dataframe thead th {\n",
       "        text-align: right;\n",
       "    }\n",
       "</style>\n",
       "<table border=\"1\" class=\"dataframe\">\n",
       "  <thead>\n",
       "    <tr style=\"text-align: right;\">\n",
       "      <th></th>\n",
       "      <th>Name</th>\n",
       "      <th>Position</th>\n",
       "      <th>Age</th>\n",
       "      <th>Team_from</th>\n",
       "      <th>League_from</th>\n",
       "      <th>Team_to</th>\n",
       "      <th>League_to</th>\n",
       "      <th>Season</th>\n",
       "      <th>Transfer_fee</th>\n",
       "      <th>New_position</th>\n",
       "    </tr>\n",
       "  </thead>\n",
       "  <tbody>\n",
       "    <tr>\n",
       "      <th>0</th>\n",
       "      <td>Luís Figo</td>\n",
       "      <td>Right Winger</td>\n",
       "      <td>27</td>\n",
       "      <td>FC Barcelona</td>\n",
       "      <td>LaLiga</td>\n",
       "      <td>Real Madrid</td>\n",
       "      <td>LaLiga</td>\n",
       "      <td>2000-2001</td>\n",
       "      <td>60000000</td>\n",
       "      <td>Attacker</td>\n",
       "    </tr>\n",
       "    <tr>\n",
       "      <th>1</th>\n",
       "      <td>Hernán Crespo</td>\n",
       "      <td>Centre-Forward</td>\n",
       "      <td>25</td>\n",
       "      <td>Parma</td>\n",
       "      <td>Serie A</td>\n",
       "      <td>Lazio</td>\n",
       "      <td>Serie A</td>\n",
       "      <td>2000-2001</td>\n",
       "      <td>56810000</td>\n",
       "      <td>Attacker</td>\n",
       "    </tr>\n",
       "    <tr>\n",
       "      <th>2</th>\n",
       "      <td>Marc Overmars</td>\n",
       "      <td>Left Winger</td>\n",
       "      <td>27</td>\n",
       "      <td>Arsenal</td>\n",
       "      <td>Premier League</td>\n",
       "      <td>FC Barcelona</td>\n",
       "      <td>LaLiga</td>\n",
       "      <td>2000-2001</td>\n",
       "      <td>40000000</td>\n",
       "      <td>Attacker</td>\n",
       "    </tr>\n",
       "    <tr>\n",
       "      <th>3</th>\n",
       "      <td>Gabriel Batistuta</td>\n",
       "      <td>Centre-Forward</td>\n",
       "      <td>31</td>\n",
       "      <td>Fiorentina</td>\n",
       "      <td>Serie A</td>\n",
       "      <td>AS Roma</td>\n",
       "      <td>Serie A</td>\n",
       "      <td>2000-2001</td>\n",
       "      <td>36150000</td>\n",
       "      <td>Attacker</td>\n",
       "    </tr>\n",
       "    <tr>\n",
       "      <th>4</th>\n",
       "      <td>Nicolas Anelka</td>\n",
       "      <td>Centre-Forward</td>\n",
       "      <td>21</td>\n",
       "      <td>Real Madrid</td>\n",
       "      <td>LaLiga</td>\n",
       "      <td>Paris SG</td>\n",
       "      <td>Ligue 1</td>\n",
       "      <td>2000-2001</td>\n",
       "      <td>34500000</td>\n",
       "      <td>Attacker</td>\n",
       "    </tr>\n",
       "  </tbody>\n",
       "</table>\n",
       "</div>"
      ],
      "text/plain": [
       "                Name        Position  Age     Team_from     League_from  \\\n",
       "0          Luís Figo    Right Winger   27  FC Barcelona          LaLiga   \n",
       "1      Hernán Crespo  Centre-Forward   25         Parma         Serie A   \n",
       "2      Marc Overmars     Left Winger   27       Arsenal  Premier League   \n",
       "3  Gabriel Batistuta  Centre-Forward   31    Fiorentina         Serie A   \n",
       "4     Nicolas Anelka  Centre-Forward   21   Real Madrid          LaLiga   \n",
       "\n",
       "        Team_to League_to     Season  Transfer_fee New_position  \n",
       "0   Real Madrid    LaLiga  2000-2001      60000000     Attacker  \n",
       "1         Lazio   Serie A  2000-2001      56810000     Attacker  \n",
       "2  FC Barcelona    LaLiga  2000-2001      40000000     Attacker  \n",
       "3       AS Roma   Serie A  2000-2001      36150000     Attacker  \n",
       "4      Paris SG   Ligue 1  2000-2001      34500000     Attacker  "
      ]
     },
     "execution_count": 180,
     "metadata": {},
     "output_type": "execute_result"
    }
   ],
   "source": [
    "df_new.head()"
   ]
  },
  {
   "cell_type": "code",
   "execution_count": 181,
   "metadata": {},
   "outputs": [],
   "source": [
    "new_year = {'2000-2001' : '2000' , '2001-2002' : '2001' , '2002-2003' : '2002' , '2003-2004' : '2003'  , '2004-2005' : '2004' , '2005-2006' : '2005' , '2006-2007' : '2006'  , '2007-2008' : '2007'  , '2008-2009' : '2008'  , '2009-2010' : '2009'  , '2010-2011' : '2010'  , '2011-2012' : '2011'  , '2012-2013' : '2012'  , '2013-2014' : '2013'  , '2014-2015' : '2014'  , '2015-2016' : '2015'  , '2016-2017' : '2016'  , '2017-2018' : '2017'  , '2018-2019' : '2018'   }"
   ]
  },
  {
   "cell_type": "markdown",
   "metadata": {},
   "source": [
    "So here we create new column and it's name New_season"
   ]
  },
  {
   "cell_type": "code",
   "execution_count": 182,
   "metadata": {},
   "outputs": [],
   "source": [
    "df_new['New_season'] = pd.Series(df_new.Season.map(new_year), index = df_new.index)"
   ]
  },
  {
   "cell_type": "code",
   "execution_count": 254,
   "metadata": {
    "scrolled": false
   },
   "outputs": [
    {
     "data": {
      "image/png": "[encoded data removed]",
      "text/plain": [
       "<Figure size 1200x600 with 1 Axes>"
      ]
     },
     "metadata": {},
     "output_type": "display_data"
    }
   ],
   "source": [
    "df_new.boxplot(column='Age',by = 'New_season',figsize=(12,6))\n",
    "plt.grid(axis='x')"
   ]
  },
  {
   "cell_type": "markdown",
   "metadata": {},
   "source": [
    "Here we sum transfer_fee for each age"
   ]
  },
  {
   "cell_type": "code",
   "execution_count": 279,
   "metadata": {
    "scrolled": false
   },
   "outputs": [
    {
     "data": {
      "text/html": [
       "<div>\n",
       "<style scoped>\n",
       "    .dataframe tbody tr th:only-of-type {\n",
       "        vertical-align: middle;\n",
       "    }\n",
       "\n",
       "    .dataframe tbody tr th {\n",
       "        vertical-align: top;\n",
       "    }\n",
       "\n",
       "    .dataframe thead th {\n",
       "        text-align: right;\n",
       "    }\n",
       "</style>\n",
       "<table border=\"1\" class=\"dataframe\">\n",
       "  <thead>\n",
       "    <tr style=\"text-align: right;\">\n",
       "      <th></th>\n",
       "      <th>Transfer_fee</th>\n",
       "    </tr>\n",
       "    <tr>\n",
       "      <th>Age</th>\n",
       "      <th></th>\n",
       "    </tr>\n",
       "  </thead>\n",
       "  <tbody>\n",
       "    <tr>\n",
       "      <th>15</th>\n",
       "      <td>3200000</td>\n",
       "    </tr>\n",
       "    <tr>\n",
       "      <th>16</th>\n",
       "      <td>80700000</td>\n",
       "    </tr>\n",
       "    <tr>\n",
       "      <th>17</th>\n",
       "      <td>143640000</td>\n",
       "    </tr>\n",
       "    <tr>\n",
       "      <th>18</th>\n",
       "      <td>743810000</td>\n",
       "    </tr>\n",
       "    <tr>\n",
       "      <th>19</th>\n",
       "      <td>1565160000</td>\n",
       "    </tr>\n",
       "    <tr>\n",
       "      <th>20</th>\n",
       "      <td>2724840000</td>\n",
       "    </tr>\n",
       "    <tr>\n",
       "      <th>21</th>\n",
       "      <td>3428255000</td>\n",
       "    </tr>\n",
       "    <tr>\n",
       "      <th>22</th>\n",
       "      <td>4110520000</td>\n",
       "    </tr>\n",
       "    <tr>\n",
       "      <th>23</th>\n",
       "      <td>5042080000</td>\n",
       "    </tr>\n",
       "    <tr>\n",
       "      <th>24</th>\n",
       "      <td>5407570000</td>\n",
       "    </tr>\n",
       "    <tr>\n",
       "      <th>25</th>\n",
       "      <td>5195030000</td>\n",
       "    </tr>\n",
       "    <tr>\n",
       "      <th>26</th>\n",
       "      <td>4530580000</td>\n",
       "    </tr>\n",
       "    <tr>\n",
       "      <th>27</th>\n",
       "      <td>4297980000</td>\n",
       "    </tr>\n",
       "    <tr>\n",
       "      <th>28</th>\n",
       "      <td>2998540000</td>\n",
       "    </tr>\n",
       "    <tr>\n",
       "      <th>29</th>\n",
       "      <td>2157520000</td>\n",
       "    </tr>\n",
       "    <tr>\n",
       "      <th>30</th>\n",
       "      <td>1171590000</td>\n",
       "    </tr>\n",
       "    <tr>\n",
       "      <th>31</th>\n",
       "      <td>421490000</td>\n",
       "    </tr>\n",
       "    <tr>\n",
       "      <th>32</th>\n",
       "      <td>152100000</td>\n",
       "    </tr>\n",
       "    <tr>\n",
       "      <th>33</th>\n",
       "      <td>195600000</td>\n",
       "    </tr>\n",
       "    <tr>\n",
       "      <th>34</th>\n",
       "      <td>16400000</td>\n",
       "    </tr>\n",
       "    <tr>\n",
       "      <th>35</th>\n",
       "      <td>15050000</td>\n",
       "    </tr>\n",
       "  </tbody>\n",
       "</table>\n",
       "</div>"
      ],
      "text/plain": [
       "     Transfer_fee\n",
       "Age              \n",
       "15        3200000\n",
       "16       80700000\n",
       "17      143640000\n",
       "18      743810000\n",
       "19     1565160000\n",
       "20     2724840000\n",
       "21     3428255000\n",
       "22     4110520000\n",
       "23     5042080000\n",
       "24     5407570000\n",
       "25     5195030000\n",
       "26     4530580000\n",
       "27     4297980000\n",
       "28     2998540000\n",
       "29     2157520000\n",
       "30     1171590000\n",
       "31      421490000\n",
       "32      152100000\n",
       "33      195600000\n",
       "34       16400000\n",
       "35       15050000"
      ]
     },
     "execution_count": 279,
     "metadata": {},
     "output_type": "execute_result"
    }
   ],
   "source": [
    "tran_sum = a.groupby(['Age']).sum()[['Transfer_fee']]\n",
    "tran_sum"
   ]
  },
  {
   "cell_type": "markdown",
   "metadata": {},
   "source": [
    "We create simple data frame just has one column to merge it with the above column "
   ]
  },
  {
   "cell_type": "code",
   "execution_count": 272,
   "metadata": {
    "scrolled": false
   },
   "outputs": [
    {
     "data": {
      "text/html": [
       "<div>\n",
       "<style scoped>\n",
       "    .dataframe tbody tr th:only-of-type {\n",
       "        vertical-align: middle;\n",
       "    }\n",
       "\n",
       "    .dataframe tbody tr th {\n",
       "        vertical-align: top;\n",
       "    }\n",
       "\n",
       "    .dataframe thead th {\n",
       "        text-align: right;\n",
       "    }\n",
       "</style>\n",
       "<table border=\"1\" class=\"dataframe\">\n",
       "  <thead>\n",
       "    <tr style=\"text-align: right;\">\n",
       "      <th></th>\n",
       "      <th>Age</th>\n",
       "    </tr>\n",
       "  </thead>\n",
       "  <tbody>\n",
       "    <tr>\n",
       "      <th>15</th>\n",
       "      <td>15</td>\n",
       "    </tr>\n",
       "    <tr>\n",
       "      <th>16</th>\n",
       "      <td>16</td>\n",
       "    </tr>\n",
       "    <tr>\n",
       "      <th>17</th>\n",
       "      <td>17</td>\n",
       "    </tr>\n",
       "    <tr>\n",
       "      <th>18</th>\n",
       "      <td>18</td>\n",
       "    </tr>\n",
       "    <tr>\n",
       "      <th>19</th>\n",
       "      <td>19</td>\n",
       "    </tr>\n",
       "    <tr>\n",
       "      <th>20</th>\n",
       "      <td>20</td>\n",
       "    </tr>\n",
       "    <tr>\n",
       "      <th>21</th>\n",
       "      <td>21</td>\n",
       "    </tr>\n",
       "    <tr>\n",
       "      <th>22</th>\n",
       "      <td>22</td>\n",
       "    </tr>\n",
       "    <tr>\n",
       "      <th>23</th>\n",
       "      <td>23</td>\n",
       "    </tr>\n",
       "    <tr>\n",
       "      <th>24</th>\n",
       "      <td>24</td>\n",
       "    </tr>\n",
       "    <tr>\n",
       "      <th>25</th>\n",
       "      <td>25</td>\n",
       "    </tr>\n",
       "    <tr>\n",
       "      <th>26</th>\n",
       "      <td>26</td>\n",
       "    </tr>\n",
       "    <tr>\n",
       "      <th>27</th>\n",
       "      <td>27</td>\n",
       "    </tr>\n",
       "    <tr>\n",
       "      <th>28</th>\n",
       "      <td>28</td>\n",
       "    </tr>\n",
       "    <tr>\n",
       "      <th>29</th>\n",
       "      <td>29</td>\n",
       "    </tr>\n",
       "    <tr>\n",
       "      <th>30</th>\n",
       "      <td>30</td>\n",
       "    </tr>\n",
       "    <tr>\n",
       "      <th>31</th>\n",
       "      <td>31</td>\n",
       "    </tr>\n",
       "    <tr>\n",
       "      <th>32</th>\n",
       "      <td>32</td>\n",
       "    </tr>\n",
       "    <tr>\n",
       "      <th>33</th>\n",
       "      <td>33</td>\n",
       "    </tr>\n",
       "    <tr>\n",
       "      <th>34</th>\n",
       "      <td>34</td>\n",
       "    </tr>\n",
       "    <tr>\n",
       "      <th>35</th>\n",
       "      <td>35</td>\n",
       "    </tr>\n",
       "  </tbody>\n",
       "</table>\n",
       "</div>"
      ],
      "text/plain": [
       "    Age\n",
       "15   15\n",
       "16   16\n",
       "17   17\n",
       "18   18\n",
       "19   19\n",
       "20   20\n",
       "21   21\n",
       "22   22\n",
       "23   23\n",
       "24   24\n",
       "25   25\n",
       "26   26\n",
       "27   27\n",
       "28   28\n",
       "29   29\n",
       "30   30\n",
       "31   31\n",
       "32   32\n",
       "33   33\n",
       "34   34\n",
       "35   35"
      ]
     },
     "execution_count": 272,
     "metadata": {},
     "output_type": "execute_result"
    }
   ],
   "source": [
    "\n",
    "new_age = pd.DataFrame({'Age' : [15, 16, 17, 18, 19, 20, 21, 22, 23, 24, 25, 26, 27, 28, 29, 30, 31, 32, 33, 34, 35]},index=[15, 16, 17, 18, 19, 20, 21, 22, 23, 24, 25, 26, 27, 28, 29, 30, 31, 32, 33, 34, 35])\n",
    "new_age"
   ]
  },
  {
   "cell_type": "markdown",
   "metadata": {},
   "source": [
    "Now we merge it to visulize this data"
   ]
  },
  {
   "cell_type": "code",
   "execution_count": 269,
   "metadata": {},
   "outputs": [
    {
     "data": {
      "text/html": [
       "<div>\n",
       "<style scoped>\n",
       "    .dataframe tbody tr th:only-of-type {\n",
       "        vertical-align: middle;\n",
       "    }\n",
       "\n",
       "    .dataframe tbody tr th {\n",
       "        vertical-align: top;\n",
       "    }\n",
       "\n",
       "    .dataframe thead th {\n",
       "        text-align: right;\n",
       "    }\n",
       "</style>\n",
       "<table border=\"1\" class=\"dataframe\">\n",
       "  <thead>\n",
       "    <tr style=\"text-align: right;\">\n",
       "      <th></th>\n",
       "      <th>Transfer_fee</th>\n",
       "      <th>Age</th>\n",
       "    </tr>\n",
       "    <tr>\n",
       "      <th>Age</th>\n",
       "      <th></th>\n",
       "      <th></th>\n",
       "    </tr>\n",
       "  </thead>\n",
       "  <tbody>\n",
       "    <tr>\n",
       "      <th>15</th>\n",
       "      <td>3200000</td>\n",
       "      <td>15</td>\n",
       "    </tr>\n",
       "    <tr>\n",
       "      <th>16</th>\n",
       "      <td>80700000</td>\n",
       "      <td>16</td>\n",
       "    </tr>\n",
       "    <tr>\n",
       "      <th>17</th>\n",
       "      <td>143640000</td>\n",
       "      <td>17</td>\n",
       "    </tr>\n",
       "    <tr>\n",
       "      <th>18</th>\n",
       "      <td>743810000</td>\n",
       "      <td>18</td>\n",
       "    </tr>\n",
       "    <tr>\n",
       "      <th>19</th>\n",
       "      <td>1565160000</td>\n",
       "      <td>19</td>\n",
       "    </tr>\n",
       "    <tr>\n",
       "      <th>20</th>\n",
       "      <td>2724840000</td>\n",
       "      <td>20</td>\n",
       "    </tr>\n",
       "    <tr>\n",
       "      <th>21</th>\n",
       "      <td>3428255000</td>\n",
       "      <td>21</td>\n",
       "    </tr>\n",
       "    <tr>\n",
       "      <th>22</th>\n",
       "      <td>4110520000</td>\n",
       "      <td>22</td>\n",
       "    </tr>\n",
       "    <tr>\n",
       "      <th>23</th>\n",
       "      <td>5042080000</td>\n",
       "      <td>23</td>\n",
       "    </tr>\n",
       "    <tr>\n",
       "      <th>24</th>\n",
       "      <td>5407570000</td>\n",
       "      <td>24</td>\n",
       "    </tr>\n",
       "    <tr>\n",
       "      <th>25</th>\n",
       "      <td>5195030000</td>\n",
       "      <td>25</td>\n",
       "    </tr>\n",
       "    <tr>\n",
       "      <th>26</th>\n",
       "      <td>4530580000</td>\n",
       "      <td>26</td>\n",
       "    </tr>\n",
       "    <tr>\n",
       "      <th>27</th>\n",
       "      <td>4297980000</td>\n",
       "      <td>27</td>\n",
       "    </tr>\n",
       "    <tr>\n",
       "      <th>28</th>\n",
       "      <td>2998540000</td>\n",
       "      <td>28</td>\n",
       "    </tr>\n",
       "    <tr>\n",
       "      <th>29</th>\n",
       "      <td>2157520000</td>\n",
       "      <td>29</td>\n",
       "    </tr>\n",
       "    <tr>\n",
       "      <th>30</th>\n",
       "      <td>1171590000</td>\n",
       "      <td>30</td>\n",
       "    </tr>\n",
       "    <tr>\n",
       "      <th>31</th>\n",
       "      <td>421490000</td>\n",
       "      <td>31</td>\n",
       "    </tr>\n",
       "    <tr>\n",
       "      <th>32</th>\n",
       "      <td>152100000</td>\n",
       "      <td>32</td>\n",
       "    </tr>\n",
       "    <tr>\n",
       "      <th>33</th>\n",
       "      <td>195600000</td>\n",
       "      <td>33</td>\n",
       "    </tr>\n",
       "    <tr>\n",
       "      <th>34</th>\n",
       "      <td>16400000</td>\n",
       "      <td>34</td>\n",
       "    </tr>\n",
       "    <tr>\n",
       "      <th>35</th>\n",
       "      <td>15050000</td>\n",
       "      <td>35</td>\n",
       "    </tr>\n",
       "  </tbody>\n",
       "</table>\n",
       "</div>"
      ],
      "text/plain": [
       "     Transfer_fee  Age\n",
       "Age                   \n",
       "15        3200000   15\n",
       "16       80700000   16\n",
       "17      143640000   17\n",
       "18      743810000   18\n",
       "19     1565160000   19\n",
       "20     2724840000   20\n",
       "21     3428255000   21\n",
       "22     4110520000   22\n",
       "23     5042080000   23\n",
       "24     5407570000   24\n",
       "25     5195030000   25\n",
       "26     4530580000   26\n",
       "27     4297980000   27\n",
       "28     2998540000   28\n",
       "29     2157520000   29\n",
       "30     1171590000   30\n",
       "31      421490000   31\n",
       "32      152100000   32\n",
       "33      195600000   33\n",
       "34       16400000   34\n",
       "35       15050000   35"
      ]
     },
     "execution_count": 269,
     "metadata": {},
     "output_type": "execute_result"
    }
   ],
   "source": [
    "z = pd.merge(q, new_age, left_index=True, right_index=True)\n",
    "z"
   ]
  },
  {
   "cell_type": "code",
   "execution_count": 276,
   "metadata": {
    "scrolled": false
   },
   "outputs": [
    {
     "data": {
      "text/plain": [
       "<seaborn.axisgrid.JointGrid at 0x1f2bbbd2448>"
      ]
     },
     "execution_count": 276,
     "metadata": {},
     "output_type": "execute_result"
    },
    {
     "data": {
      "text/plain": [
       "<Figure size 2000x1200 with 0 Axes>"
      ]
     },
     "metadata": {},
     "output_type": "display_data"
    },
    {
     "data": {
      "image/png": "[encoded data removed]",
      "text/plain": [
       "<Figure size 600x600 with 3 Axes>"
      ]
     },
     "metadata": {},
     "output_type": "display_data"
    }
   ],
   "source": [
    "plt.figure(figsize=(20,12))\n",
    "div = z.Transfer_fee/1000000\n",
    "sns.jointplot(x= div,  y=z.Age)"
   ]
  },
  {
   "cell_type": "code",
   "execution_count": 251,
   "metadata": {},
   "outputs": [
    {
     "data": {
      "text/plain": [
       "<seaborn.axisgrid.JointGrid at 0x1f2b26ffdc8>"
      ]
     },
     "execution_count": 251,
     "metadata": {},
     "output_type": "execute_result"
    },
    {
     "data": {
      "image/png": "[encoded data removed]",
      "text/plain": [
       "<Figure size 600x600 with 3 Axes>"
      ]
     },
     "metadata": {},
     "output_type": "display_data"
    }
   ],
   "source": [
    "#We divide diff_team here to be the prices in the millions\n",
    "div = df.Transfer_fee/1000000\n",
    "sns.jointplot(x= div,  y=df.Age,kind='scatter')"
   ]
  },
  {
   "cell_type": "markdown",
   "metadata": {},
   "source": [
    "<a id='conclusions'></a>\n",
    "## Conclusions\n",
    "\n",
    "> **Tip**: Finally, summarize your findings and the results that have been performed. Make sure that you are clear with regards to the limitations of your exploration. If you haven't done any statistical tests, do not imply any statistical conclusions. And make sure you avoid implying causation from correlation!\n",
    "\n",
    "> **Tip**: Once you are satisfied with your work, you should save a copy of the report in HTML or PDF form via the **File** > **Download as** submenu. Before exporting your report, check over it to make sure that the flow of the report is complete. You should probably remove all of the \"Tip\" quotes like this one so that the presentation is as tidy as possible. Congratulations!"
   ]
  },
  {
   "cell_type": "code",
   "execution_count": null,
   "metadata": {},
   "outputs": [],
   "source": []
  }
 ],
 "metadata": {
  "kernelspec": {
   "display_name": "Python 3",
   "language": "python",
   "name": "python3"
  },
  "language_info": {
   "codemirror_mode": {
    "name": "ipython",
    "version": 3
   },
   "file_extension": ".py",
   "mimetype": "text/x-python",
   "name": "python",
   "nbconvert_exporter": "python",
   "pygments_lexer": "ipython3",
   "version": "3.7.6"
  }
 },
 "nbformat": 4,
 "nbformat_minor": 2
}
